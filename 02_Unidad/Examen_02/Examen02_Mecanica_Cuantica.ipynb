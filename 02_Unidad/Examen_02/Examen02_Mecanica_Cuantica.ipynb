{
 "cells": [
  {
   "cell_type": "markdown",
   "id": "c5f43e6b",
   "metadata": {},
   "source": [
    "# Unidad 02 - Mecánica Cuántica  \n",
    "\n",
    "**Profesor:** Dr. Jesús Capistrán Martínez    \n",
    "\n",
    "**Alumno:** _______________________________"
   ]
  },
  {
   "cell_type": "markdown",
   "id": "3f7b390d",
   "metadata": {},
   "source": [
    "## Problema 1\n",
    "¿Que es la energía del estado fundamental de un sistema cuántico (ejemplo: particula cuántica + pozo de potencial )? \n"
   ]
  },
  {
   "cell_type": "markdown",
   "id": "55c3c5b4",
   "metadata": {},
   "source": [
    "## Problema 2\n",
    "Un láser rojo emite luz de $794 \\, \\text{nm}$. Suponga que esta luz se debe a la transición de un electrón dentro de un pozo cuántico del estado $n = 2$ al estado $n = 1$. Encuentre la longitud **L** del pozo."
   ]
  },
  {
   "cell_type": "markdown",
   "id": "331fb3b7",
   "metadata": {},
   "source": [
    "## Problema 3\n",
    "Un electrón con energía total $E = 4.5 \\, \\text{eV}$ se aproxima a una barrera rectangular de energía con $U = 5.0 \\, \\text{eV}$ y $L = 9.5 \\, Å$. De acuerdo con la mecánica clásica, el electrón no podría pasar la barrera de potencial por que $ E < U$. Sin embargo, segun la mecánica cuántica, la probabilidad de obtener el efecto tunel no es cero. **Calcule la probabilidad de transmición $T$:**  "
   ]
  },
  {
   "cell_type": "markdown",
   "id": "9f0c4088",
   "metadata": {},
   "source": [
    "## Problema 4\n",
    "En una región  del espacio, una partícula cuántica con energía total cero tiene una función de onda $\\psi = Axe^{-x^2/L^2}$. **Encuentre la energía potencial $U(x)$**"
   ]
  },
  {
   "cell_type": "markdown",
   "id": "74140522",
   "metadata": {},
   "source": [
    "## Problema 5\n",
    "Demuestre que el primer término de la ecuación de Scrödinger, se reduce a la energía cinética de la partícula cuántica multiplicada por la función de onda $\\psi(x) = Ae^{ikx}$\n",
    "\n",
    "$$ -\\frac{\\hbar^2}{2m}\\frac{d^2}{dx^2}\\psi + U\\psi = E\\psi$$\n",
    "\n",
    "Nota: $U = 0$"
   ]
  }
 ],
 "metadata": {
  "kernelspec": {
   "display_name": "Python 3 (ipykernel)",
   "language": "python",
   "name": "python3"
  },
  "language_info": {
   "codemirror_mode": {
    "name": "ipython",
    "version": 3
   },
   "file_extension": ".py",
   "mimetype": "text/x-python",
   "name": "python",
   "nbconvert_exporter": "python",
   "pygments_lexer": "ipython3",
   "version": "3.10.7"
  }
 },
 "nbformat": 4,
 "nbformat_minor": 5
}
