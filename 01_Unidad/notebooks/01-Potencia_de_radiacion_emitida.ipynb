{
 "cells": [
  {
   "cell_type": "markdown",
   "id": "f1f7e50c",
   "metadata": {},
   "source": [
    "# Unidad 01: Radiación de Cuerpo Negro \n",
    "\n",
    "- **Nombre:** Jesús Capistrán Martínez  \n",
    "- **email:**  capistran@gmail.com  \n",
    "- **Matricula:** 123456789\n"
   ]
  },
  {
   "cell_type": "markdown",
   "id": "33ced26c",
   "metadata": {},
   "source": [
    "## Potencia de radiación emitida\n",
    "\n",
    "La potencia total de radiación aumenta con la temperatura mediante la ley de Stefan \n",
    "\n",
    "$$ P = \\sigma A \\epsilon T^4 $$\n",
    "\n",
    "Donde: \n",
    "\n",
    "- P = [W] Potencia radiada en todas las longitudes \n",
    "- $\\sigma = 5.670\\times 10^{-8} $ [$W/(m^2·K^4)$] Consante de Stefan-Boltzman\n",
    "- A = [$m^2$]  área de la superficie del objeto\n",
    "- $\\epsilon = 1$  Emisividad de la superficie ( $\\epsilon = 1 $ para un cuerpo negro )"
   ]
  },
  {
   "cell_type": "code",
   "execution_count": 1,
   "id": "6dc9e0ed",
   "metadata": {},
   "outputs": [],
   "source": [
    "# Importar librerias (se usaran más adelante en el curso)\n",
    "\n",
    "import numpy as np  #Esta libreria hace calculo de matrices \n",
    "import pandas as pd #Esta libreria permite manipular tablas y muchos datos\n",
    "import matplotlib.pyplot as plt  # Esta liberaria nos permite graficar \n"
   ]
  },
  {
   "cell_type": "code",
   "execution_count": 2,
   "id": "f14b2cbc",
   "metadata": {},
   "outputs": [],
   "source": [
    "# Declarar constantes \n",
    "\n",
    "StBoltzman = 5.670e-8 # [W/(m^2·K^4)] Constante de stefan Boltzman \n",
    "emisividad = 1 # Emisividad de un cuerpo negro "
   ]
  },
  {
   "cell_type": "code",
   "execution_count": 3,
   "id": "f05d0dfb",
   "metadata": {},
   "outputs": [],
   "source": [
    "# Variable independite (Temperatura): P(T)\n",
    "\n",
    "Temperatura = 6000 # [K]"
   ]
  },
  {
   "cell_type": "markdown",
   "id": "ae1a1c0b",
   "metadata": {},
   "source": [
    "## Potencia de radiación emitida por área \n",
    "\n",
    "$$ P/A = \\sigma \\epsilon T^4 $$"
   ]
  },
  {
   "cell_type": "code",
   "execution_count": 4,
   "id": "d8ec165d",
   "metadata": {},
   "outputs": [
    {
     "data": {
      "text/plain": [
       "73483200.0"
      ]
     },
     "execution_count": 4,
     "metadata": {},
     "output_type": "execute_result"
    }
   ],
   "source": [
    "# Programar la ecuación (Varieble dependiente), depende de la temperatura P(T)\n",
    "\n",
    "Potencia = StBoltzman*emisividad*Temperatura**4 #[W/m2] Intensidad o potencia de radiación \n",
    "Potencia = round(Potencia,2)\n",
    "Potencia"
   ]
  },
  {
   "cell_type": "code",
   "execution_count": 5,
   "id": "da779402",
   "metadata": {},
   "outputs": [
    {
     "name": "stdout",
     "output_type": "stream",
     "text": [
      "La potencia de radiación de un cuerpo negro a T = 6000 Kelvin es P = 73483200.0 [W/m^2]\n"
     ]
    }
   ],
   "source": [
    "# Imprimir el resultado \n",
    "print(f'La potencia de radiación de un cuerpo negro a T = {Temperatura} Kelvin es P = {Potencia} [W/m^2]')"
   ]
  },
  {
   "cell_type": "code",
   "execution_count": null,
   "id": "ccad84fc",
   "metadata": {},
   "outputs": [],
   "source": []
  }
 ],
 "metadata": {
  "kernelspec": {
   "display_name": "Python 3 (ipykernel)",
   "language": "python",
   "name": "python3"
  },
  "language_info": {
   "codemirror_mode": {
    "name": "ipython",
    "version": 3
   },
   "file_extension": ".py",
   "mimetype": "text/x-python",
   "name": "python",
   "nbconvert_exporter": "python",
   "pygments_lexer": "ipython3",
   "version": "3.10.7"
  }
 },
 "nbformat": 4,
 "nbformat_minor": 5
}
